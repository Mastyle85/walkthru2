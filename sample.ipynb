{
 "cells": [
  {
   "cell_type": "markdown",
   "id": "5dd6d1a3-0074-4893-bc5c-9833224935d2",
   "metadata": {},
   "source": [
    "# Walkthru sample Notebook"
   ]
  },
  {
   "cell_type": "markdown",
   "id": "1063edda-a8da-4c3b-82a8-d57226811420",
   "metadata": {},
   "source": [
    "here i calculate 1+1"
   ]
  },
  {
   "cell_type": "code",
   "execution_count": 2,
   "id": "825dcd94-13aa-4790-b1d2-cb4cf7f7a454",
   "metadata": {},
   "outputs": [
    {
     "data": {
      "text/plain": [
       "2"
      ]
     },
     "execution_count": 2,
     "metadata": {},
     "output_type": "execute_result"
    }
   ],
   "source": [
    "1+1"
   ]
  },
  {
   "cell_type": "markdown",
   "id": "03de3896-01b8-490e-84ec-1a71033456a3",
   "metadata": {},
   "source": [
    "## test"
   ]
  },
  {
   "cell_type": "code",
   "execution_count": 3,
   "id": "13405650-7eb0-4eef-a5ea-57eced21854c",
   "metadata": {},
   "outputs": [
    {
     "data": {
      "text/plain": [
       "63468"
      ]
     },
     "execution_count": 3,
     "metadata": {},
     "output_type": "execute_result"
    }
   ],
   "source": [
    "516*123"
   ]
  },
  {
   "cell_type": "code",
   "execution_count": null,
   "id": "cddf2cf1-d389-4e63-b5e7-d9ec68bee0bb",
   "metadata": {},
   "outputs": [],
   "source": []
  },
  {
   "cell_type": "code",
   "execution_count": null,
   "id": "9c0c76d0-f509-4cc1-aa2a-0781a663364a",
   "metadata": {},
   "outputs": [],
   "source": []
  },
  {
   "cell_type": "code",
   "execution_count": null,
   "id": "7bf4ce37-4e89-4cc6-9b7b-bce72f89d499",
   "metadata": {},
   "outputs": [],
   "source": []
  },
  {
   "cell_type": "code",
   "execution_count": null,
   "id": "41d5dc86-7d47-4969-b042-19d1177dcf68",
   "metadata": {},
   "outputs": [],
   "source": []
  },
  {
   "cell_type": "code",
   "execution_count": null,
   "id": "c1ac1a85-9ace-490c-8da9-88aa69f1c651",
   "metadata": {},
   "outputs": [],
   "source": []
  },
  {
   "cell_type": "code",
   "execution_count": null,
   "id": "7eda7a70-aa5c-4907-9516-301a07d16b5e",
   "metadata": {},
   "outputs": [],
   "source": []
  },
  {
   "cell_type": "code",
   "execution_count": null,
   "id": "a5388caa-93e1-44af-9497-fc1704ba3826",
   "metadata": {},
   "outputs": [],
   "source": []
  },
  {
   "cell_type": "code",
   "execution_count": null,
   "id": "dc5908fb-9809-4761-9936-b4a7b604de00",
   "metadata": {},
   "outputs": [],
   "source": []
  },
  {
   "cell_type": "code",
   "execution_count": null,
   "id": "376d09d3-c5bd-4434-8771-6ae0fcb1d0fb",
   "metadata": {},
   "outputs": [],
   "source": []
  },
  {
   "cell_type": "code",
   "execution_count": null,
   "id": "9813d5b3-9d3b-467e-80bb-370ac851582c",
   "metadata": {},
   "outputs": [],
   "source": []
  },
  {
   "cell_type": "code",
   "execution_count": null,
   "id": "afa42275-ef7b-4bd4-b959-66c67510d16b",
   "metadata": {},
   "outputs": [],
   "source": []
  },
  {
   "cell_type": "code",
   "execution_count": null,
   "id": "b7baa9bb-41d7-4a45-9450-659209f49c5a",
   "metadata": {},
   "outputs": [],
   "source": []
  },
  {
   "cell_type": "code",
   "execution_count": null,
   "id": "127ca784-4ff0-4aec-bcda-d85d7f0864ca",
   "metadata": {},
   "outputs": [],
   "source": []
  },
  {
   "cell_type": "code",
   "execution_count": null,
   "id": "87408351-4c74-468f-8594-c0ca59b8acba",
   "metadata": {},
   "outputs": [],
   "source": []
  },
  {
   "cell_type": "code",
   "execution_count": null,
   "id": "a54c8aec-c3a1-4539-b830-e0081a30fcea",
   "metadata": {},
   "outputs": [],
   "source": []
  },
  {
   "cell_type": "code",
   "execution_count": null,
   "id": "12be0aef-72b8-4ce7-b21c-0f1291ec66b6",
   "metadata": {},
   "outputs": [],
   "source": []
  }
 ],
 "metadata": {
  "kernelspec": {
   "display_name": "Python 3 (ipykernel)",
   "language": "python",
   "name": "python3"
  },
  "language_info": {
   "codemirror_mode": {
    "name": "ipython",
    "version": 3
   },
   "file_extension": ".py",
   "mimetype": "text/x-python",
   "name": "python",
   "nbconvert_exporter": "python",
   "pygments_lexer": "ipython3",
   "version": "3.12.8"
  }
 },
 "nbformat": 4,
 "nbformat_minor": 5
}
